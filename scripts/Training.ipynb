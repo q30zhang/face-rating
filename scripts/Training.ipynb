{
 "cells": [
  {
   "cell_type": "code",
   "execution_count": 1,
   "id": "146f50a9",
   "metadata": {
    "scrolled": false
   },
   "outputs": [],
   "source": [
    "import pandas as pd\n",
    "import numpy as np\n",
    "from tensorflow.keras.applications.resnet50 import ResNet50\n",
    "from tensorflow.keras.models import Sequential\n",
    "from tensorflow.keras.optimizers import Adam, SGD\n",
    "from tensorflow.keras.layers import Dense, Dropout\n",
    "from tensorflow.keras.callbacks import EarlyStopping, ModelCheckpoint\n",
    "from tensorflow.keras import backend, regularizers\n",
    "import matplotlib.pyplot as plt\n",
    "import pickle, cv2\n",
    "import os"
   ]
  },
  {
   "cell_type": "code",
   "execution_count": 2,
   "id": "964464c3",
   "metadata": {},
   "outputs": [],
   "source": [
    "data = np.load(\"all_data.npz\")\n",
    "X = data[\"images\"]\n",
    "Y = data[\"labels\"]\n",
    "names = data[\"names\"]"
   ]
  },
  {
   "cell_type": "code",
   "execution_count": 3,
   "id": "ff4a3255",
   "metadata": {},
   "outputs": [],
   "source": [
    "np.random.seed(20150828)\n",
    "randomized_order = np.random.permutation(X.shape[0])\n",
    "\n",
    "train_len = int(X.shape[0] * 0.8)\n",
    "X_train, X_test = X[randomized_order[:train_len],:], X[randomized_order[train_len:],:]\n",
    "Y_train, Y_test = Y[randomized_order[:train_len],], Y[randomized_order[train_len:],]\n",
    "names_train, names_test = names[randomized_order[:train_len],], names[randomized_order[train_len:],]\n",
    "\n"
   ]
  },
  {
   "cell_type": "code",
   "execution_count": 4,
   "id": "db973bb9",
   "metadata": {},
   "outputs": [
    {
     "name": "stdout",
     "output_type": "stream",
     "text": [
      "Metal device set to: Apple M1 Max\n"
     ]
    },
    {
     "name": "stderr",
     "output_type": "stream",
     "text": [
      "2022-08-02 21:11:34.039967: I tensorflow/core/common_runtime/pluggable_device/pluggable_device_factory.cc:305] Could not identify NUMA node of platform GPU ID 0, defaulting to 0. Your kernel may not have been built with NUMA support.\n",
      "2022-08-02 21:11:34.040204: I tensorflow/core/common_runtime/pluggable_device/pluggable_device_factory.cc:271] Created TensorFlow device (/job:localhost/replica:0/task:0/device:GPU:0 with 0 MB memory) -> physical PluggableDevice (device: 0, name: METAL, pci bus id: <undefined>)\n"
     ]
    }
   ],
   "source": [
    "resnet = ResNet50(include_top=False, input_shape=(224,224,3), weights=\"imagenet\", pooling='avg')\n",
    "model = Sequential()\n",
    "model.add(resnet)\n",
    "model.add(Dropout(0.5))\n",
    "model.add(Dense(1))\n",
    "model.layers[0].trainable = False\n",
    "\n",
    "sgd = SGD(learning_rate=0.001, decay=1e-6, momentum=0.9, nesterov=True)\n",
    "adam = Adam(learning_rate=0.01, beta_1=0.9, beta_2=0.999)\n",
    "model.compile(loss='mean_squared_error', optimizer=adam, metrics=['mean_squared_error'])\n",
    "\n",
    "earlyStopping = EarlyStopping(monitor='val_loss', patience=10, verbose=0, mode='auto')\n",
    "checkPoint = ModelCheckpoint(filepath='model-ms-resnet-no-adj.h5', verbose=1, save_best_only=True)\n",
    "\n"
   ]
  },
  {
   "cell_type": "code",
   "execution_count": 6,
   "id": "0495f55e",
   "metadata": {},
   "outputs": [],
   "source": [
    "# model.load_weights('../models/model-ms-resnet-no-adj.h5')"
   ]
  },
  {
   "cell_type": "code",
   "execution_count": 5,
   "id": "f221f9c9",
   "metadata": {
    "scrolled": false
   },
   "outputs": [
    {
     "name": "stdout",
     "output_type": "stream",
     "text": [
      "Epoch 1/100\n"
     ]
    },
    {
     "name": "stderr",
     "output_type": "stream",
     "text": [
      "2022-08-02 21:11:42.445263: W tensorflow/core/platform/profile_utils/cpu_utils.cc:128] Failed to get CPU frequency: 0 Hz\n",
      "2022-08-02 21:11:43.674661: I tensorflow/core/grappler/optimizers/custom_graph_optimizer_registry.cc:113] Plugin optimizer for device_type GPU is enabled.\n"
     ]
    },
    {
     "name": "stdout",
     "output_type": "stream",
     "text": [
      "110/110 [==============================] - ETA: 0s - loss: 0.7623 - mean_squared_error: 0.7623"
     ]
    },
    {
     "name": "stderr",
     "output_type": "stream",
     "text": [
      "2022-08-02 21:11:55.244065: I tensorflow/core/grappler/optimizers/custom_graph_optimizer_registry.cc:113] Plugin optimizer for device_type GPU is enabled.\n"
     ]
    },
    {
     "name": "stdout",
     "output_type": "stream",
     "text": [
      "\n",
      "Epoch 1: val_loss improved from inf to 0.34226, saving model to model-ms-resnet-no-adj.h5\n",
      "110/110 [==============================] - 16s 125ms/step - loss: 0.7623 - mean_squared_error: 0.7623 - val_loss: 0.3423 - val_mean_squared_error: 0.3423\n",
      "Epoch 2/100\n",
      "110/110 [==============================] - ETA: 0s - loss: 0.3716 - mean_squared_error: 0.3716\n",
      "Epoch 2: val_loss did not improve from 0.34226\n",
      "110/110 [==============================] - 10s 95ms/step - loss: 0.3716 - mean_squared_error: 0.3716 - val_loss: 0.3661 - val_mean_squared_error: 0.3661\n",
      "Epoch 3/100\n",
      "110/110 [==============================] - ETA: 0s - loss: 0.3647 - mean_squared_error: 0.3647\n",
      "Epoch 3: val_loss did not improve from 0.34226\n",
      "110/110 [==============================] - 12s 105ms/step - loss: 0.3647 - mean_squared_error: 0.3647 - val_loss: 0.5377 - val_mean_squared_error: 0.5377\n",
      "Epoch 4/100\n",
      "110/110 [==============================] - ETA: 0s - loss: 0.4242 - mean_squared_error: 0.4242\n",
      "Epoch 4: val_loss did not improve from 0.34226\n",
      "110/110 [==============================] - 12s 105ms/step - loss: 0.4242 - mean_squared_error: 0.4242 - val_loss: 0.4286 - val_mean_squared_error: 0.4286\n",
      "Epoch 5/100\n",
      "110/110 [==============================] - ETA: 0s - loss: 0.3338 - mean_squared_error: 0.3338\n",
      "Epoch 5: val_loss improved from 0.34226 to 0.27745, saving model to model-ms-resnet-no-adj.h5\n",
      "110/110 [==============================] - 12s 107ms/step - loss: 0.3338 - mean_squared_error: 0.3338 - val_loss: 0.2774 - val_mean_squared_error: 0.2774\n",
      "Epoch 6/100\n",
      "110/110 [==============================] - ETA: 0s - loss: 0.3218 - mean_squared_error: 0.3218\n",
      "Epoch 6: val_loss did not improve from 0.27745\n",
      "110/110 [==============================] - 12s 106ms/step - loss: 0.3218 - mean_squared_error: 0.3218 - val_loss: 0.2834 - val_mean_squared_error: 0.2834\n",
      "Epoch 7/100\n",
      "110/110 [==============================] - ETA: 0s - loss: 0.3136 - mean_squared_error: 0.3136\n",
      "Epoch 7: val_loss did not improve from 0.27745\n",
      "110/110 [==============================] - 11s 103ms/step - loss: 0.3136 - mean_squared_error: 0.3136 - val_loss: 0.3857 - val_mean_squared_error: 0.3857\n",
      "Epoch 8/100\n",
      "110/110 [==============================] - ETA: 0s - loss: 0.3302 - mean_squared_error: 0.3302\n",
      "Epoch 8: val_loss improved from 0.27745 to 0.26632, saving model to model-ms-resnet-no-adj.h5\n",
      "110/110 [==============================] - 12s 105ms/step - loss: 0.3302 - mean_squared_error: 0.3302 - val_loss: 0.2663 - val_mean_squared_error: 0.2663\n",
      "Epoch 9/100\n",
      "110/110 [==============================] - ETA: 0s - loss: 0.3494 - mean_squared_error: 0.3494\n",
      "Epoch 9: val_loss did not improve from 0.26632\n",
      "110/110 [==============================] - 11s 101ms/step - loss: 0.3494 - mean_squared_error: 0.3494 - val_loss: 0.2758 - val_mean_squared_error: 0.2758\n",
      "Epoch 10/100\n",
      "110/110 [==============================] - ETA: 0s - loss: 0.3336 - mean_squared_error: 0.3336\n",
      "Epoch 10: val_loss did not improve from 0.26632\n",
      "110/110 [==============================] - 10s 93ms/step - loss: 0.3336 - mean_squared_error: 0.3336 - val_loss: 0.2843 - val_mean_squared_error: 0.2843\n",
      "Epoch 11/100\n",
      "110/110 [==============================] - ETA: 0s - loss: 0.3326 - mean_squared_error: 0.3326\n",
      "Epoch 11: val_loss did not improve from 0.26632\n",
      "110/110 [==============================] - 11s 103ms/step - loss: 0.3326 - mean_squared_error: 0.3326 - val_loss: 0.2798 - val_mean_squared_error: 0.2798\n",
      "Epoch 12/100\n",
      "110/110 [==============================] - ETA: 0s - loss: 0.3280 - mean_squared_error: 0.3280\n",
      "Epoch 12: val_loss did not improve from 0.26632\n",
      "110/110 [==============================] - 11s 102ms/step - loss: 0.3280 - mean_squared_error: 0.3280 - val_loss: 0.3218 - val_mean_squared_error: 0.3218\n",
      "Epoch 13/100\n",
      "110/110 [==============================] - ETA: 0s - loss: 0.3356 - mean_squared_error: 0.3356\n",
      "Epoch 13: val_loss did not improve from 0.26632\n",
      "110/110 [==============================] - 11s 101ms/step - loss: 0.3356 - mean_squared_error: 0.3356 - val_loss: 0.2718 - val_mean_squared_error: 0.2718\n",
      "Epoch 14/100\n",
      "110/110 [==============================] - ETA: 0s - loss: 0.3647 - mean_squared_error: 0.3647\n",
      "Epoch 14: val_loss did not improve from 0.26632\n",
      "110/110 [==============================] - 11s 101ms/step - loss: 0.3647 - mean_squared_error: 0.3647 - val_loss: 0.3736 - val_mean_squared_error: 0.3736\n",
      "Epoch 15/100\n",
      "110/110 [==============================] - ETA: 0s - loss: 0.3116 - mean_squared_error: 0.3116\n",
      "Epoch 15: val_loss improved from 0.26632 to 0.26286, saving model to model-ms-resnet-no-adj.h5\n",
      "110/110 [==============================] - 12s 105ms/step - loss: 0.3116 - mean_squared_error: 0.3116 - val_loss: 0.2629 - val_mean_squared_error: 0.2629\n",
      "Epoch 16/100\n",
      "110/110 [==============================] - ETA: 0s - loss: 0.3246 - mean_squared_error: 0.3246\n",
      "Epoch 16: val_loss improved from 0.26286 to 0.26278, saving model to model-ms-resnet-no-adj.h5\n",
      "110/110 [==============================] - 12s 105ms/step - loss: 0.3246 - mean_squared_error: 0.3246 - val_loss: 0.2628 - val_mean_squared_error: 0.2628\n",
      "Epoch 17/100\n",
      "110/110 [==============================] - ETA: 0s - loss: 0.3415 - mean_squared_error: 0.3415\n",
      "Epoch 17: val_loss did not improve from 0.26278\n",
      "110/110 [==============================] - 10s 94ms/step - loss: 0.3415 - mean_squared_error: 0.3415 - val_loss: 0.3373 - val_mean_squared_error: 0.3373\n",
      "Epoch 18/100\n",
      "110/110 [==============================] - ETA: 0s - loss: 0.3054 - mean_squared_error: 0.3054\n",
      "Epoch 18: val_loss improved from 0.26278 to 0.25665, saving model to model-ms-resnet-no-adj.h5\n",
      "110/110 [==============================] - 12s 105ms/step - loss: 0.3054 - mean_squared_error: 0.3054 - val_loss: 0.2567 - val_mean_squared_error: 0.2567\n",
      "Epoch 19/100\n",
      "110/110 [==============================] - ETA: 0s - loss: 0.3146 - mean_squared_error: 0.3146\n",
      "Epoch 19: val_loss improved from 0.25665 to 0.25164, saving model to model-ms-resnet-no-adj.h5\n",
      "110/110 [==============================] - 12s 106ms/step - loss: 0.3146 - mean_squared_error: 0.3146 - val_loss: 0.2516 - val_mean_squared_error: 0.2516\n",
      "Epoch 20/100\n",
      "110/110 [==============================] - ETA: 0s - loss: 0.3333 - mean_squared_error: 0.3333\n",
      "Epoch 20: val_loss did not improve from 0.25164\n",
      "110/110 [==============================] - 11s 99ms/step - loss: 0.3333 - mean_squared_error: 0.3333 - val_loss: 0.2574 - val_mean_squared_error: 0.2574\n",
      "Epoch 21/100\n",
      "110/110 [==============================] - ETA: 0s - loss: 0.3785 - mean_squared_error: 0.3785\n",
      "Epoch 21: val_loss did not improve from 0.25164\n",
      "110/110 [==============================] - 10s 94ms/step - loss: 0.3785 - mean_squared_error: 0.3785 - val_loss: 0.3751 - val_mean_squared_error: 0.3751\n",
      "Epoch 22/100\n",
      "110/110 [==============================] - ETA: 0s - loss: 0.2979 - mean_squared_error: 0.2979\n",
      "Epoch 22: val_loss did not improve from 0.25164\n",
      "110/110 [==============================] - 11s 100ms/step - loss: 0.2979 - mean_squared_error: 0.2979 - val_loss: 0.3095 - val_mean_squared_error: 0.3095\n",
      "Epoch 23/100\n",
      "110/110 [==============================] - ETA: 0s - loss: 0.3187 - mean_squared_error: 0.3187\n",
      "Epoch 23: val_loss did not improve from 0.25164\n",
      "110/110 [==============================] - 11s 102ms/step - loss: 0.3187 - mean_squared_error: 0.3187 - val_loss: 0.4951 - val_mean_squared_error: 0.4951\n",
      "Epoch 24/100\n",
      "110/110 [==============================] - ETA: 0s - loss: 0.3448 - mean_squared_error: 0.3448\n",
      "Epoch 24: val_loss did not improve from 0.25164\n",
      "110/110 [==============================] - 12s 106ms/step - loss: 0.3448 - mean_squared_error: 0.3448 - val_loss: 0.3219 - val_mean_squared_error: 0.3219\n",
      "Epoch 25/100\n",
      "110/110 [==============================] - ETA: 0s - loss: 0.3521 - mean_squared_error: 0.3521\n",
      "Epoch 25: val_loss did not improve from 0.25164\n",
      "110/110 [==============================] - 11s 104ms/step - loss: 0.3521 - mean_squared_error: 0.3521 - val_loss: 0.4161 - val_mean_squared_error: 0.4161\n",
      "Epoch 26/100\n",
      "110/110 [==============================] - ETA: 0s - loss: 0.3465 - mean_squared_error: 0.3465\n",
      "Epoch 26: val_loss did not improve from 0.25164\n",
      "110/110 [==============================] - 12s 112ms/step - loss: 0.3465 - mean_squared_error: 0.3465 - val_loss: 0.2595 - val_mean_squared_error: 0.2595\n"
     ]
    },
    {
     "name": "stdout",
     "output_type": "stream",
     "text": [
      "Epoch 27/100\n",
      "110/110 [==============================] - ETA: 0s - loss: 0.3266 - mean_squared_error: 0.3266\n",
      "Epoch 27: val_loss did not improve from 0.25164\n",
      "110/110 [==============================] - 12s 111ms/step - loss: 0.3266 - mean_squared_error: 0.3266 - val_loss: 0.4259 - val_mean_squared_error: 0.4259\n",
      "Epoch 28/100\n",
      "110/110 [==============================] - ETA: 0s - loss: 0.3095 - mean_squared_error: 0.3095\n",
      "Epoch 28: val_loss did not improve from 0.25164\n",
      "110/110 [==============================] - 12s 112ms/step - loss: 0.3095 - mean_squared_error: 0.3095 - val_loss: 0.2641 - val_mean_squared_error: 0.2641\n",
      "Epoch 29/100\n",
      "110/110 [==============================] - ETA: 0s - loss: 0.3231 - mean_squared_error: 0.3231\n",
      "Epoch 29: val_loss did not improve from 0.25164\n",
      "110/110 [==============================] - 12s 106ms/step - loss: 0.3231 - mean_squared_error: 0.3231 - val_loss: 0.4353 - val_mean_squared_error: 0.4353\n"
     ]
    }
   ],
   "source": [
    "history = model.fit(x=X_train, y=Y_train, batch_size=32, callbacks=[earlyStopping, checkPoint], epochs=100, verbose=1, validation_split=0.2)"
   ]
  },
  {
   "cell_type": "code",
   "execution_count": 8,
   "id": "74711d8c",
   "metadata": {},
   "outputs": [],
   "source": [
    "# model.save_weights('../models/model-ms-resnet-no-adj.h5')\n"
   ]
  },
  {
   "cell_type": "code",
   "execution_count": 7,
   "id": "ec346c45",
   "metadata": {
    "scrolled": false
   },
   "outputs": [
    {
     "name": "stdout",
     "output_type": "stream",
     "text": [
      "Epoch 1/100\n"
     ]
    },
    {
     "name": "stderr",
     "output_type": "stream",
     "text": [
      "2022-08-02 21:29:27.118032: I tensorflow/core/grappler/optimizers/custom_graph_optimizer_registry.cc:113] Plugin optimizer for device_type GPU is enabled.\n"
     ]
    },
    {
     "name": "stdout",
     "output_type": "stream",
     "text": [
      "110/110 [==============================] - ETA: 0s - loss: 92.8040 - mean_squared_error: 92.8040 - mae: 4.4638"
     ]
    },
    {
     "name": "stderr",
     "output_type": "stream",
     "text": [
      "2022-08-02 21:30:00.443020: I tensorflow/core/grappler/optimizers/custom_graph_optimizer_registry.cc:113] Plugin optimizer for device_type GPU is enabled.\n"
     ]
    },
    {
     "name": "stdout",
     "output_type": "stream",
     "text": [
      "\n",
      "Epoch 1: val_loss improved from inf to 1.35487, saving model to model-ms-all-resnet-no-adj.h5\n",
      "110/110 [==============================] - 40s 314ms/step - loss: 92.8040 - mean_squared_error: 92.8040 - mae: 4.4638 - val_loss: 1.3549 - val_mean_squared_error: 1.3549 - val_mae: 0.9643\n",
      "Epoch 2/100\n",
      "110/110 [==============================] - ETA: 0s - loss: 0.9591 - mean_squared_error: 0.9591 - mae: 0.7657\n",
      "Epoch 2: val_loss did not improve from 1.35487\n",
      "110/110 [==============================] - 30s 276ms/step - loss: 0.9591 - mean_squared_error: 0.9591 - mae: 0.7657 - val_loss: 6.2543 - val_mean_squared_error: 6.2543 - val_mae: 2.4051\n",
      "Epoch 3/100\n",
      "110/110 [==============================] - ETA: 0s - loss: 0.8586 - mean_squared_error: 0.8586 - mae: 0.7338\n",
      "Epoch 3: val_loss did not improve from 1.35487\n",
      "110/110 [==============================] - 30s 276ms/step - loss: 0.8586 - mean_squared_error: 0.8586 - mae: 0.7338 - val_loss: 6.1831 - val_mean_squared_error: 6.1831 - val_mae: 2.3870\n",
      "Epoch 4/100\n",
      "110/110 [==============================] - ETA: 0s - loss: 0.5822 - mean_squared_error: 0.5822 - mae: 0.6025\n",
      "Epoch 4: val_loss did not improve from 1.35487\n",
      "110/110 [==============================] - 32s 287ms/step - loss: 0.5822 - mean_squared_error: 0.5822 - mae: 0.6025 - val_loss: 6.1377 - val_mean_squared_error: 6.1377 - val_mae: 2.3741\n",
      "Epoch 5/100\n",
      "110/110 [==============================] - ETA: 0s - loss: 0.5884 - mean_squared_error: 0.5884 - mae: 0.6056\n",
      "Epoch 5: val_loss did not improve from 1.35487\n",
      "110/110 [==============================] - 33s 305ms/step - loss: 0.5884 - mean_squared_error: 0.5884 - mae: 0.6056 - val_loss: 4.0161 - val_mean_squared_error: 4.0161 - val_mae: 1.8328\n",
      "Epoch 6/100\n",
      "110/110 [==============================] - ETA: 0s - loss: 0.4414 - mean_squared_error: 0.4414 - mae: 0.5276\n",
      "Epoch 6: val_loss did not improve from 1.35487\n",
      "110/110 [==============================] - 34s 307ms/step - loss: 0.4414 - mean_squared_error: 0.4414 - mae: 0.5276 - val_loss: 1.5699 - val_mean_squared_error: 1.5699 - val_mae: 0.9760\n",
      "Epoch 7/100\n",
      "110/110 [==============================] - ETA: 0s - loss: 0.4442 - mean_squared_error: 0.4442 - mae: 0.5287\n",
      "Epoch 7: val_loss improved from 1.35487 to 0.97572, saving model to model-ms-all-resnet-no-adj.h5\n",
      "110/110 [==============================] - 35s 322ms/step - loss: 0.4442 - mean_squared_error: 0.4442 - mae: 0.5287 - val_loss: 0.9757 - val_mean_squared_error: 0.9757 - val_mae: 0.7903\n",
      "Epoch 8/100\n",
      "110/110 [==============================] - ETA: 0s - loss: 0.4171 - mean_squared_error: 0.4171 - mae: 0.5079\n",
      "Epoch 8: val_loss did not improve from 0.97572\n",
      "110/110 [==============================] - 34s 305ms/step - loss: 0.4171 - mean_squared_error: 0.4171 - mae: 0.5079 - val_loss: 0.9953 - val_mean_squared_error: 0.9953 - val_mae: 0.8347\n",
      "Epoch 9/100\n",
      "110/110 [==============================] - ETA: 0s - loss: 0.3914 - mean_squared_error: 0.3914 - mae: 0.4937\n",
      "Epoch 9: val_loss did not improve from 0.97572\n",
      "110/110 [==============================] - 34s 310ms/step - loss: 0.3914 - mean_squared_error: 0.3914 - mae: 0.4937 - val_loss: 1.4704 - val_mean_squared_error: 1.4704 - val_mae: 1.0529\n",
      "Epoch 10/100\n",
      "110/110 [==============================] - ETA: 0s - loss: 0.3116 - mean_squared_error: 0.3116 - mae: 0.4410\n",
      "Epoch 10: val_loss did not improve from 0.97572\n",
      "110/110 [==============================] - 34s 308ms/step - loss: 0.3116 - mean_squared_error: 0.3116 - mae: 0.4410 - val_loss: 1.1114 - val_mean_squared_error: 1.1114 - val_mae: 0.9011\n",
      "Epoch 11/100\n",
      "110/110 [==============================] - ETA: 0s - loss: 0.3299 - mean_squared_error: 0.3299 - mae: 0.4544\n",
      "Epoch 11: val_loss did not improve from 0.97572\n",
      "110/110 [==============================] - 34s 305ms/step - loss: 0.3299 - mean_squared_error: 0.3299 - mae: 0.4544 - val_loss: 1.9810 - val_mean_squared_error: 1.9810 - val_mae: 1.2359\n",
      "Epoch 12/100\n",
      "110/110 [==============================] - ETA: 0s - loss: 0.2941 - mean_squared_error: 0.2941 - mae: 0.4249\n",
      "Epoch 12: val_loss did not improve from 0.97572\n",
      "110/110 [==============================] - 34s 307ms/step - loss: 0.2941 - mean_squared_error: 0.2941 - mae: 0.4249 - val_loss: 1.6189 - val_mean_squared_error: 1.6189 - val_mae: 1.1590\n",
      "Epoch 13/100\n",
      "110/110 [==============================] - ETA: 0s - loss: 0.2945 - mean_squared_error: 0.2945 - mae: 0.4249\n",
      "Epoch 13: val_loss did not improve from 0.97572\n",
      "110/110 [==============================] - 33s 305ms/step - loss: 0.2945 - mean_squared_error: 0.2945 - mae: 0.4249 - val_loss: 2.2606 - val_mean_squared_error: 2.2606 - val_mae: 1.3714\n",
      "Epoch 14/100\n",
      "110/110 [==============================] - ETA: 0s - loss: 0.3384 - mean_squared_error: 0.3384 - mae: 0.4588\n",
      "Epoch 14: val_loss did not improve from 0.97572\n",
      "110/110 [==============================] - 34s 306ms/step - loss: 0.3384 - mean_squared_error: 0.3384 - mae: 0.4588 - val_loss: 4.9958 - val_mean_squared_error: 4.9958 - val_mae: 2.0976\n",
      "Epoch 15/100\n",
      "110/110 [==============================] - ETA: 0s - loss: 0.2140 - mean_squared_error: 0.2140 - mae: 0.3634\n",
      "Epoch 15: val_loss improved from 0.97572 to 0.87735, saving model to model-ms-all-resnet-no-adj.h5\n",
      "110/110 [==============================] - 37s 332ms/step - loss: 0.2140 - mean_squared_error: 0.2140 - mae: 0.3634 - val_loss: 0.8774 - val_mean_squared_error: 0.8774 - val_mae: 0.8240\n",
      "Epoch 16/100\n",
      "110/110 [==============================] - ETA: 0s - loss: 0.2924 - mean_squared_error: 0.2924 - mae: 0.4303\n",
      "Epoch 16: val_loss did not improve from 0.87735\n",
      "110/110 [==============================] - 35s 317ms/step - loss: 0.2924 - mean_squared_error: 0.2924 - mae: 0.4303 - val_loss: 5.8419 - val_mean_squared_error: 5.8419 - val_mae: 2.3007\n",
      "Epoch 17/100\n",
      "110/110 [==============================] - ETA: 0s - loss: 0.1934 - mean_squared_error: 0.1934 - mae: 0.3489\n",
      "Epoch 17: val_loss did not improve from 0.87735\n",
      "110/110 [==============================] - 36s 327ms/step - loss: 0.1934 - mean_squared_error: 0.1934 - mae: 0.3489 - val_loss: 2.7866 - val_mean_squared_error: 2.7866 - val_mae: 1.5827\n",
      "Epoch 18/100\n",
      "110/110 [==============================] - ETA: 0s - loss: 0.2212 - mean_squared_error: 0.2212 - mae: 0.3733\n",
      "Epoch 18: val_loss did not improve from 0.87735\n",
      "110/110 [==============================] - 35s 318ms/step - loss: 0.2212 - mean_squared_error: 0.2212 - mae: 0.3733 - val_loss: 2.1869 - val_mean_squared_error: 2.1869 - val_mae: 1.3740\n",
      "Epoch 19/100\n",
      "110/110 [==============================] - ETA: 0s - loss: 0.2046 - mean_squared_error: 0.2046 - mae: 0.3593\n",
      "Epoch 19: val_loss did not improve from 0.87735\n",
      "110/110 [==============================] - 36s 331ms/step - loss: 0.2046 - mean_squared_error: 0.2046 - mae: 0.3593 - val_loss: 1.3966 - val_mean_squared_error: 1.3966 - val_mae: 1.0703\n",
      "Epoch 20/100\n",
      "110/110 [==============================] - ETA: 0s - loss: 0.1726 - mean_squared_error: 0.1726 - mae: 0.3323\n",
      "Epoch 20: val_loss improved from 0.87735 to 0.27783, saving model to model-ms-all-resnet-no-adj.h5\n",
      "110/110 [==============================] - 38s 341ms/step - loss: 0.1726 - mean_squared_error: 0.1726 - mae: 0.3323 - val_loss: 0.2778 - val_mean_squared_error: 0.2778 - val_mae: 0.4072\n",
      "Epoch 21/100\n",
      "110/110 [==============================] - ETA: 0s - loss: 0.2378 - mean_squared_error: 0.2378 - mae: 0.3838\n",
      "Epoch 21: val_loss did not improve from 0.27783\n",
      "110/110 [==============================] - 35s 322ms/step - loss: 0.2378 - mean_squared_error: 0.2378 - mae: 0.3838 - val_loss: 2.9394 - val_mean_squared_error: 2.9394 - val_mae: 1.6329\n",
      "Epoch 22/100\n",
      "110/110 [==============================] - ETA: 0s - loss: 0.1416 - mean_squared_error: 0.1416 - mae: 0.2943\n",
      "Epoch 22: val_loss did not improve from 0.27783\n",
      "110/110 [==============================] - 36s 330ms/step - loss: 0.1416 - mean_squared_error: 0.1416 - mae: 0.2943 - val_loss: 1.8939 - val_mean_squared_error: 1.8939 - val_mae: 1.2942\n",
      "Epoch 23/100\n",
      "110/110 [==============================] - ETA: 0s - loss: 0.1574 - mean_squared_error: 0.1574 - mae: 0.3171\n",
      "Epoch 23: val_loss did not improve from 0.27783\n",
      "110/110 [==============================] - 36s 331ms/step - loss: 0.1574 - mean_squared_error: 0.1574 - mae: 0.3171 - val_loss: 1.2821 - val_mean_squared_error: 1.2821 - val_mae: 1.0413\n"
     ]
    },
    {
     "name": "stdout",
     "output_type": "stream",
     "text": [
      "Epoch 24/100\n",
      "110/110 [==============================] - ETA: 0s - loss: 0.1237 - mean_squared_error: 0.1237 - mae: 0.2784\n",
      "Epoch 24: val_loss did not improve from 0.27783\n",
      "110/110 [==============================] - 37s 334ms/step - loss: 0.1237 - mean_squared_error: 0.1237 - mae: 0.2784 - val_loss: 3.9852 - val_mean_squared_error: 3.9852 - val_mae: 1.9361\n",
      "Epoch 25/100\n",
      "110/110 [==============================] - ETA: 0s - loss: 0.0959 - mean_squared_error: 0.0959 - mae: 0.2462\n",
      "Epoch 25: val_loss did not improve from 0.27783\n",
      "110/110 [==============================] - 37s 339ms/step - loss: 0.0959 - mean_squared_error: 0.0959 - mae: 0.2462 - val_loss: 1.3968 - val_mean_squared_error: 1.3968 - val_mae: 1.1017\n",
      "Epoch 26/100\n",
      "110/110 [==============================] - ETA: 0s - loss: 0.1386 - mean_squared_error: 0.1386 - mae: 0.2956\n",
      "Epoch 26: val_loss did not improve from 0.27783\n",
      "110/110 [==============================] - 36s 330ms/step - loss: 0.1386 - mean_squared_error: 0.1386 - mae: 0.2956 - val_loss: 1.9353 - val_mean_squared_error: 1.9353 - val_mae: 1.3060\n",
      "Epoch 27/100\n",
      "110/110 [==============================] - ETA: 0s - loss: 0.1662 - mean_squared_error: 0.1662 - mae: 0.3275\n",
      "Epoch 27: val_loss did not improve from 0.27783\n",
      "110/110 [==============================] - 37s 340ms/step - loss: 0.1662 - mean_squared_error: 0.1662 - mae: 0.3275 - val_loss: 1.6384 - val_mean_squared_error: 1.6384 - val_mae: 1.1937\n",
      "Epoch 28/100\n",
      "110/110 [==============================] - ETA: 0s - loss: 0.1041 - mean_squared_error: 0.1041 - mae: 0.2547\n",
      "Epoch 28: val_loss did not improve from 0.27783\n",
      "110/110 [==============================] - 36s 332ms/step - loss: 0.1041 - mean_squared_error: 0.1041 - mae: 0.2547 - val_loss: 1.9125 - val_mean_squared_error: 1.9125 - val_mae: 1.3026\n",
      "Epoch 29/100\n",
      "110/110 [==============================] - ETA: 0s - loss: 0.1336 - mean_squared_error: 0.1336 - mae: 0.2911\n",
      "Epoch 29: val_loss did not improve from 0.27783\n",
      "110/110 [==============================] - 37s 339ms/step - loss: 0.1336 - mean_squared_error: 0.1336 - mae: 0.2911 - val_loss: 2.6693 - val_mean_squared_error: 2.6693 - val_mae: 1.5669\n",
      "Epoch 30/100\n",
      "110/110 [==============================] - ETA: 0s - loss: 0.1111 - mean_squared_error: 0.1111 - mae: 0.2598\n",
      "Epoch 30: val_loss did not improve from 0.27783\n",
      "110/110 [==============================] - 37s 341ms/step - loss: 0.1111 - mean_squared_error: 0.1111 - mae: 0.2598 - val_loss: 2.3772 - val_mean_squared_error: 2.3772 - val_mae: 1.4699\n"
     ]
    }
   ],
   "source": [
    "model.layers[0].trainable = True\n",
    "\n",
    "adam = Adam(learning_rate=0.001, beta_1=0.9, beta_2=0.999)\n",
    "model.compile(loss='mean_squared_error', optimizer=adam, metrics=['mean_squared_error', 'mae'])\n",
    "# model.load_weights('model-ms-resnet.h5', by_name=True)\n",
    "earlyStopping = EarlyStopping(monitor='val_loss', min_delta=0, patience=10, verbose=0, mode='auto')\n",
    "checkPoint = ModelCheckpoint(filepath='model-ms-all-resnet-no-adj.h5', verbose=1, save_best_only=True)\n",
    "\n",
    "history = model.fit(x=X_train, y=Y_train, batch_size=32, callbacks=[earlyStopping, checkPoint], epochs=100, verbose=1, validation_split=0.2)\n"
   ]
  },
  {
   "cell_type": "code",
   "execution_count": 10,
   "id": "f7ad7db9",
   "metadata": {},
   "outputs": [],
   "source": [
    "model.save_weights('../models/model-ms-all-resnet-no-adj.h5')\n"
   ]
  },
  {
   "cell_type": "code",
   "execution_count": 8,
   "id": "01de9f53",
   "metadata": {},
   "outputs": [
    {
     "data": {
      "text/plain": [
       "<matplotlib.legend.Legend at 0x5da562d00>"
      ]
     },
     "execution_count": 8,
     "metadata": {},
     "output_type": "execute_result"
    },
    {
     "data": {
      "image/png": "[encoded data removed]",
      "text/plain": [
       "<Figure size 432x288 with 1 Axes>"
      ]
     },
     "metadata": {
      "needs_background": "light"
     },
     "output_type": "display_data"
    }
   ],
   "source": [
    "fig = plt.figure()\n",
    "plt.plot(history.history['mean_squared_error'])\n",
    "plt.plot(history.history['val_mean_squared_error'])\n",
    "plt.title('model accuracy')\n",
    "plt.ylabel('accuracy')\n",
    "plt.xlabel('epoch')\n",
    "plt.legend(['train', 'test'], loc='upper left')\n",
    "plt.plot(history.history['loss'])\n",
    "plt.plot(history.history['val_loss'])\n",
    "plt.title('model loss')\n",
    "plt.ylabel('loss')\n",
    "plt.xlabel('epoch')\n",
    "plt.legend(['train', 'test'], loc='lower left')\n"
   ]
  },
  {
   "cell_type": "code",
   "execution_count": 10,
   "id": "ecdcc8ff",
   "metadata": {},
   "outputs": [],
   "source": [
    "model.load_weights('../models/model-ms-all-resnet-no-adj.h5')"
   ]
  },
  {
   "cell_type": "code",
   "execution_count": 11,
   "id": "498c2a1d",
   "metadata": {},
   "outputs": [
    {
     "name": "stdout",
     "output_type": "stream",
     "text": [
      "35/35 [==============================] - 3s 72ms/step - loss: 0.2748 - mean_squared_error: 0.2748 - mae: 0.4124\n"
     ]
    },
    {
     "data": {
      "text/plain": [
       "[0.274797260761261, 0.274797260761261, 0.4124491810798645]"
      ]
     },
     "execution_count": 11,
     "metadata": {},
     "output_type": "execute_result"
    }
   ],
   "source": [
    "model.evaluate(X_test, Y_test)"
   ]
  },
  {
   "cell_type": "code",
   "execution_count": 12,
   "id": "2f5283a9",
   "metadata": {},
   "outputs": [
    {
     "name": "stderr",
     "output_type": "stream",
     "text": [
      "2022-08-02 22:06:54.901968: I tensorflow/core/grappler/optimizers/custom_graph_optimizer_registry.cc:113] Plugin optimizer for device_type GPU is enabled.\n"
     ]
    },
    {
     "name": "stdout",
     "output_type": "stream",
     "text": [
      "35/35 [==============================] - 4s 79ms/step\n"
     ]
    }
   ],
   "source": [
    "Y_pred = model.predict(X_test)"
   ]
  },
  {
   "cell_type": "code",
   "execution_count": 13,
   "id": "aa1ad450",
   "metadata": {},
   "outputs": [
    {
     "data": {
      "text/plain": [
       "0.8021815355244505"
      ]
     },
     "execution_count": 13,
     "metadata": {},
     "output_type": "execute_result"
    }
   ],
   "source": [
    "np.corrcoef(Y_test, Y_pred[:,0])[0,1]"
   ]
  },
  {
   "cell_type": "code",
   "execution_count": 14,
   "id": "bd5eb5d7",
   "metadata": {},
   "outputs": [
    {
     "data": {
      "text/plain": [
       "0.2747972656159371"
      ]
     },
     "execution_count": 14,
     "metadata": {},
     "output_type": "execute_result"
    }
   ],
   "source": [
    "((Y_test - Y_pred[:,0])**2).mean()"
   ]
  },
  {
   "cell_type": "code",
   "execution_count": 15,
   "id": "ce4c0eb5",
   "metadata": {},
   "outputs": [
    {
     "data": {
      "text/plain": [
       "0.524211088795284"
      ]
     },
     "execution_count": 15,
     "metadata": {},
     "output_type": "execute_result"
    }
   ],
   "source": [
    "np.sqrt(((Y_test - Y_pred[:,0])**2).mean())"
   ]
  },
  {
   "cell_type": "code",
   "execution_count": 16,
   "id": "a2e809e2",
   "metadata": {},
   "outputs": [
    {
     "data": {
      "text/plain": [
       "0.4124492295756392"
      ]
     },
     "execution_count": 16,
     "metadata": {},
     "output_type": "execute_result"
    }
   ],
   "source": [
    "np.abs(Y_test - Y_pred[:,0]).mean()"
   ]
  },
  {
   "cell_type": "code",
   "execution_count": 17,
   "id": "d3821f27",
   "metadata": {},
   "outputs": [],
   "source": [
    "pd.DataFrame({\"label\": Y_test, \"prediction\": Y_pred.T[0]}).to_csv(\"../results/test-predict-no-adj.csv\")"
   ]
  },
  {
   "cell_type": "code",
   "execution_count": 19,
   "id": "4ff29cb1",
   "metadata": {},
   "outputs": [
    {
     "data": {
      "image/png": "[encoded data removed]",
      "text/plain": [
       "<Figure size 432x288 with 1 Axes>"
      ]
     },
     "metadata": {
      "needs_background": "light"
     },
     "output_type": "display_data"
    }
   ],
   "source": [
    "plt.plot(Y_pred[:,0], Y_test, \"bo\")\n",
    "plt.xlabel(\"predict\")\n",
    "plt.ylabel(\"label\")\n",
    "plt.show()"
   ]
  }
 ],
 "metadata": {
  "kernelspec": {
   "display_name": "base",
   "language": "python",
   "name": "base"
  },
  "language_info": {
   "codemirror_mode": {
    "name": "ipython",
    "version": 3
   },
   "file_extension": ".py",
   "mimetype": "text/x-python",
   "name": "python",
   "nbconvert_exporter": "python",
   "pygments_lexer": "ipython3",
   "version": "3.8.13"
  }
 },
 "nbformat": 4,
 "nbformat_minor": 5
}
