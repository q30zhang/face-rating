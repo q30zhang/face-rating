{
 "cells": [
  {
   "cell_type": "code",
   "execution_count": 1,
   "id": "06b1cbf0",
   "metadata": {},
   "outputs": [],
   "source": [
    "import cv2\n",
    "import os, sys\n",
    "import pickle\n",
    "import numpy as np\n",
    "from os import path\n",
    "# from tensorflow.keras.preprocessing.image import ImageDataGenerator, array_to_img, img_to_array, load_img\n",
    "import random\n",
    "from PIL import Image\n",
    "from PIL import ImageEnhance\n",
    "\n",
    "IM_WIDTH = IM_HEIGHT = 224\n",
    "im_path = \"../data/img_processed/Images_cropped\"\n",
    "# rating_path = parent_path + \"/dataset/SCUT-FBP5500/All_Ratings/\"\n",
    "# model_path = parent_path + \"/common/haarcascade_frontalface_alt.xml\"\n",
    "# face_cascade = cv2.CascadeClassifier(\"/Library/Frameworks/Python.framework/Versions/3.9/lib/python3.9/site-packages/cv2/data/haarcascade_frontalface_alt.xml\")\n",
    "# face_cascade2 = cv2.CascadeClassifier(\"/Library/Frameworks/Python.framework/Versions/3.9/lib/python3.9/site-packages/cv2/data/haarcascade_frontalface_alt2.xml\")"
   ]
  },
  {
   "cell_type": "code",
   "execution_count": 2,
   "id": "18989416",
   "metadata": {},
   "outputs": [],
   "source": [
    "# def detectFace(detector,image_path, image_name):\n",
    "#     imgAbsPath = image_path + image_name\n",
    "#     img = cv2.imread(imgAbsPath)\n",
    "#     if img.ndim == 3:\n",
    "#         gray = cv2.cvtColor(img, cv2.COLOR_BGR2GRAY)\n",
    "#     else:\n",
    "#         gray = img\n",
    "#     w = img.shape[1]\n",
    "#     faces = detector.detectMultiScale(gray, 1.1,5,0,(w//2,w//2))\n",
    "\n",
    "#     resized_im = 0\n",
    "\n",
    "#     if len(faces) == 1:\n",
    "#         face = faces[0]\n",
    "#         croped_im = img[face[1]:face[1]+face[3],face[0]:face[0]+face[2],:]\n",
    "#         resized_im = cv2.resize(croped_im, (224,224))\n",
    "\n",
    "#         if resized_im.shape[0] != 224 or resized_im.shape[1] != 224:\n",
    "#             print(\"invalid shape\")\n",
    "\n",
    "#         # cv2.imwrite(image_name, resized_im)\n",
    "#     else:\n",
    "#         print(image_name+\" error \" + str(len(faces)))\n",
    "#     return resized_im"
   ]
  },
  {
   "cell_type": "code",
   "execution_count": 6,
   "id": "7ff41ce5",
   "metadata": {},
   "outputs": [],
   "source": [
    "def randomUpdate(normed_im):\n",
    "    \n",
    "#     (train_lable_distribution[0][1] * 127.5 + 127.5).astype('uint8')\n",
    "\n",
    "    img = Image.fromarray((normed_im * 127.5 + 127.5).astype('uint8'))\n",
    "\n",
    "#     # 旋转\n",
    "#     rotate = random.random() * 30 - 30\n",
    "#     image_rotated = img.rotate(rotate)\n",
    "\n",
    "    # 亮度\n",
    "    enh_bri = ImageEnhance.Brightness(image_rotated)\n",
    "    bright = random.random() * 0.8 + 0.6\n",
    "    image_brightened = enh_bri.enhance(bright)\n",
    "    # image_brightened.show()\n",
    "\n",
    "    # 对比度\n",
    "    enh_con = ImageEnhance.Contrast(image_brightened)\n",
    "    contrast = random.random() * 0.6 + 0.7\n",
    "    image_contrasted = enh_con.enhance(contrast)\n",
    "    # image_contrasted.show()\n",
    "\n",
    "    # 色度\n",
    "    enh_col = ImageEnhance.Color(image_contrasted)\n",
    "    color = random.random() * 0.6 + 0.7\n",
    "    image_colored = enh_col.enhance(color)\n",
    "\n",
    "    return np.asarray(image_colored)"
   ]
  },
  {
   "cell_type": "code",
   "execution_count": 2,
   "id": "f92becf7",
   "metadata": {},
   "outputs": [],
   "source": [
    "labels = np.loadtxt(\"../data/raw/All_labels.txt\", dtype=\"str\", delimiter=\" \")\n",
    "names = labels[:,0]\n",
    "labels = labels[:,1].astype(\"float\")"
   ]
  },
  {
   "cell_type": "code",
   "execution_count": 3,
   "id": "b9d05031",
   "metadata": {},
   "outputs": [],
   "source": [
    "im_names = list(filter(lambda x: x.endswith(\".jpg\"), os.listdir(im_path)))\n",
    "data = np.zeros((len(im_names), IM_HEIGHT, IM_WIDTH, 3))\n",
    "\n",
    "for im_name in im_names:\n",
    "    im = cv2.imread(os.path.join(im_path, im_name))\n",
    "    if im is not None:\n",
    "        index = (names == im_name)\n",
    "        data[index] = (im - 127.5) / 127.5\n",
    "    "
   ]
  },
  {
   "cell_type": "code",
   "execution_count": 4,
   "id": "a6071974",
   "metadata": {},
   "outputs": [],
   "source": [
    "np.savez(\"../data/img_processed/all_data.npz\", names=names, labels=labels, images=data)"
   ]
  }
 ],
 "metadata": {
  "kernelspec": {
   "display_name": "base",
   "language": "python",
   "name": "base"
  },
  "language_info": {
   "codemirror_mode": {
    "name": "ipython",
    "version": 3
   },
   "file_extension": ".py",
   "mimetype": "text/x-python",
   "name": "python",
   "nbconvert_exporter": "python",
   "pygments_lexer": "ipython3",
   "version": "3.8.13"
  }
 },
 "nbformat": 4,
 "nbformat_minor": 5
}
