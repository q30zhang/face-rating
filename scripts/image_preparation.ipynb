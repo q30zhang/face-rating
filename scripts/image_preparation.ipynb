{
 "cells": [
  {
   "cell_type": "code",
   "execution_count": 1,
   "id": "018f649b",
   "metadata": {},
   "outputs": [],
   "source": [
    "import pandas as pd\n",
    "import numpy as mp\n",
    "import matplotlib.pyplot as plt\n",
    "import cv2\n",
    "import os"
   ]
  },
  {
   "cell_type": "code",
   "execution_count": 2,
   "id": "76926dc7",
   "metadata": {},
   "outputs": [],
   "source": [
    "source_root = \"/Library/Frameworks/Python.framework/Versions/3.9/lib/python3.9/site-packages/cv2/data/\"\n",
    "face_cascade0 = cv2.CascadeClassifier(source_root + \"haarcascade_frontalface_default.xml\")\n",
    "face_cascade1 = cv2.CascadeClassifier(source_root + \"haarcascade_frontalface_alt.xml\")\n",
    "face_cascade2 = cv2.CascadeClassifier(source_root + \"haarcascade_frontalface_alt2.xml\")"
   ]
  },
  {
   "cell_type": "code",
   "execution_count": 3,
   "id": "d9e95796",
   "metadata": {
    "scrolled": true
   },
   "outputs": [],
   "source": [
    "def detect_face(im_path, face_cascade=face_cascade1, face_choice=0, adj_factor=0.2, resize=False):\n",
    "    im = cv2.imread(im_path)\n",
    "    \n",
    "    parent_path = os.path.dirname(im_path)\n",
    "    root_path = os.path.dirname(parent_path)\n",
    "    folder_name = parent_path[parent_path.rfind(\"/\")+1:]\n",
    "    im_name = im_path[im_path.rfind(\"/\")+1:]\n",
    "    new_folder_name = folder_name + \"_cropped\"\n",
    "    new_path = os.path.join(root_path, new_folder_name)\n",
    "    \n",
    "    if im is None:\n",
    "        print(f\"read error for {im_name}\")\n",
    "        return im_name\n",
    "\n",
    "    minisize = (im.shape[1], im.shape[0])\n",
    "    miniframe = cv2.resize(im, minisize)\n",
    "    faces = face_cascade.detectMultiScale(miniframe)\n",
    "    \n",
    "    if len(faces) == 0:\n",
    "        print(f\"no face found in {im_name}\")\n",
    "        return im_name\n",
    "\n",
    "    \n",
    "    if new_folder_name not in os.listdir(root_path or None):\n",
    "        os.mkdir(new_folder_name)\n",
    "    \n",
    "\n",
    "    if len(faces) > 1:\n",
    "        if \"check\" not in os.listdir(new_path):\n",
    "            os.mkdir(os.path.join(new_path, \"check\"))\n",
    "        new_path = os.path.join(new_path, \"check\")\n",
    "        \n",
    "    face = faces[faces[:, 2].argsort()][-1-face_choice]\n",
    "\n",
    "    x, y, w, h = [ v for v in face ]\n",
    "\n",
    "    x_adj = int(adj_factor * w)\n",
    "    if x - x_adj < 0 or x + w + x_adj > im.shape[1]:\n",
    "        x_adj = min(x, im.shape[1] - x - w)\n",
    "    y_adj = int(adj_factor * h)\n",
    "    if y - y_adj < 0 or y + h + y_adj > im.shape[0]:\n",
    "        y_adj = min(y, im.shape[0] - y - h)\n",
    "    adj = min(x_adj, y_adj)\n",
    "    x -= adj\n",
    "    y -= adj\n",
    "    w += adj * 2\n",
    "    h += adj * 2\n",
    "    \n",
    "    cv2.rectangle(im, (x,y), (x+w,y+h), (255,255,255))\n",
    "    sub_face = im[y:y+h, x:x+w]\n",
    "    if not resize:\n",
    "        cv2.imwrite(os.path.join(new_path, im_name), sub_face)\n",
    "    else:\n",
    "        resized_im = cv2.resize(sub_face, (224, 224))\n",
    "        cv2.imwrite(os.path.join(new_path, im_name), resized_im)\n",
    "\n",
    "    \n",
    "\n",
    "#     plt.imshow(sub_face)"
   ]
  },
  {
   "cell_type": "code",
   "execution_count": 13,
   "id": "32172996",
   "metadata": {
    "scrolled": false
   },
   "outputs": [
    {
     "name": "stdout",
     "output_type": "stream",
     "text": [
      "no face found in AF1248.jpg\n",
      "no face found in CF427.jpg\n",
      "no face found in CM42.jpg\n",
      "no face found in AM1640.jpg\n",
      "no face found in AF1183.jpg\n",
      "no face found in CF276.jpg\n",
      "no face found in AF1180.jpg\n",
      "no face found in CF113.jpg\n"
     ]
    }
   ],
   "source": [
    "ims = [\"../data/img_raw/Images/\" + nm for nm in os.listdir(\"Images\")]\n",
    "\n",
    "miss_detection = []\n",
    "\n",
    "for im in ims:\n",
    "    missed = detect_face(im, face_cascade=face_cascade2, adj_factor=0)\n",
    "    if missed:\n",
    "        miss_detection.append(missed)\n",
    "\n"
   ]
  },
  {
   "cell_type": "code",
   "execution_count": 14,
   "id": "631d7e18",
   "metadata": {
    "scrolled": true
   },
   "outputs": [
    {
     "name": "stdout",
     "output_type": "stream",
     "text": [
      "no face found in AF1248.jpg\n",
      "no face found in CF427.jpg\n",
      "no face found in CM42.jpg\n",
      "no face found in AM1640.jpg\n",
      "no face found in AF1183.jpg\n",
      "no face found in AF1180.jpg\n",
      "no face found in CF113.jpg\n"
     ]
    }
   ],
   "source": [
    "ims = [\"../data/img_raw/Images/\" + nm for nm in miss_detection]\n",
    "miss_detection = []\n",
    "\n",
    "for im in ims:\n",
    "    missed = detect_face(im, face_cascade=face_cascade1, adj_factor=0)\n",
    "    if missed:\n",
    "        miss_detection.append(missed)"
   ]
  },
  {
   "cell_type": "code",
   "execution_count": 15,
   "id": "896a3690",
   "metadata": {},
   "outputs": [
    {
     "name": "stdout",
     "output_type": "stream",
     "text": [
      "no face found in AF1248.jpg\n",
      "no face found in AM1640.jpg\n",
      "no face found in AF1183.jpg\n",
      "no face found in AF1180.jpg\n",
      "no face found in CF113.jpg\n"
     ]
    }
   ],
   "source": [
    "ims = [\"../data/img_raw/Images/\" + nm for nm in miss_detection]\n",
    "miss_detection = []\n",
    "\n",
    "for im in ims:\n",
    "    missed = detect_face(im, face_cascade=face_cascade0, adj_factor=0)\n",
    "    if missed:\n",
    "        miss_detection.append(missed)"
   ]
  },
  {
   "cell_type": "code",
   "execution_count": 16,
   "id": "5a79464c",
   "metadata": {},
   "outputs": [],
   "source": [
    "detect_face(\"../data/img_raw/Images/CF691.jpg\", face_cascade=face_cascade2, face_choice=1)"
   ]
  },
  {
   "cell_type": "code",
   "execution_count": 6,
   "id": "09afb0a9",
   "metadata": {
    "scrolled": true
   },
   "outputs": [],
   "source": [
    "im_path = \"../data/img_raw/face_data-2\"\n",
    "im_names = os.listdir(im_path)\n",
    "im_names = list(filter(lambda x: x.endswith(\".jpg\") or x.endswith(\".jpeg\") or x.endswith(\".png\") or x.endswith(\".webp\"), im_names))\n",
    "\n",
    "miss_detection = []\n",
    "\n",
    "for im_name in im_names:\n",
    "    im_name = os.path.join(im_path, im_name)\n",
    "    missed = detect_face(im_name, face_cascade=face_cascade2, adj_factor=0, resize=False)\n",
    "    if missed:\n",
    "        miss_detection.append(missed)"
   ]
  },
  {
   "cell_type": "code",
   "execution_count": 43,
   "id": "62b8eab0",
   "metadata": {},
   "outputs": [
    {
     "name": "stdout",
     "output_type": "stream",
     "text": [
      "no face found in 48.jpg\n",
      "no face found in 259.jpg\n",
      "no face found in 39.jpeg\n",
      "no face found in 95.jpg\n"
     ]
    }
   ],
   "source": [
    "miss_detection_2 = []\n",
    "\n",
    "for im_name in miss_detection:\n",
    "    im_name = os.path.join(im_path, im_name)\n",
    "    missed = detect_face(im_name, face_cascade=face_cascade1, adj_factor=0)\n",
    "    if missed:\n",
    "        miss_detection_2.append(missed)"
   ]
  },
  {
   "cell_type": "code",
   "execution_count": 44,
   "id": "0b4d7f60",
   "metadata": {},
   "outputs": [
    {
     "name": "stdout",
     "output_type": "stream",
     "text": [
      "no face found in 39.jpeg\n"
     ]
    }
   ],
   "source": [
    "miss_detection_3 = []\n",
    "\n",
    "for im_name in miss_detection_2:\n",
    "    im_name = os.path.join(im_path, im_name)\n",
    "    missed = detect_face(im_name, face_cascade=face_cascade0, adj_factor=0)\n",
    "    if missed:\n",
    "        miss_detection_3.append(missed)"
   ]
  },
  {
   "cell_type": "code",
   "execution_count": 45,
   "id": "150c7314",
   "metadata": {
    "scrolled": true
   },
   "outputs": [
    {
     "name": "stdout",
     "output_type": "stream",
     "text": [
      "read error for .DS_Store\n"
     ]
    }
   ],
   "source": [
    "multiple_face_miss_detected = os.listdir(\"../data/img_raw/face_data_cropped/check\")\n",
    "for im_name in multiple_face_miss_detected:\n",
    "    im_name = os.path.join(im_path, im_name)\n",
    "    missed = detect_face(im_name, face_cascade=face_cascade2, adj_factor=0, face_choice=1)"
   ]
  },
  {
   "cell_type": "code",
   "execution_count": 52,
   "id": "24401ac1",
   "metadata": {},
   "outputs": [],
   "source": [
    "cropped_im_names = os.listdir(\"../data/img_raw/face_data_cropped\")\n",
    "cropped_im_names = list(filter(lambda x: x.endswith(\".jpg\") or x.endswith(\".jpeg\") or x.endswith(\".png\") or x.endswith(\".webp\"), cropped_im_names))\n",
    "too_small_ims = []\n",
    "face_sizes = []\n",
    "for im_name in cropped_im_names:\n",
    "    im_path = os.path.join(\"../data/img_raw/face_data_cropped\", im_name)\n",
    "    im = cv2.imread(im_path)\n",
    "    if im.shape[0] < 224:\n",
    "        too_small_ims.append(im_name)\n",
    "        face_sizes.append(im.shape[0])\n",
    "    "
   ]
  },
  {
   "cell_type": "code",
   "execution_count": 53,
   "id": "3c73fd64",
   "metadata": {},
   "outputs": [],
   "source": [
    "pd.DataFrame({\"images\": too_small_ims, \"face_size\": face_sizes}).to_csv(\"too_small_images.csv\")"
   ]
  }
 ],
 "metadata": {
  "kernelspec": {
   "display_name": "base",
   "language": "python",
   "name": "base"
  },
  "language_info": {
   "codemirror_mode": {
    "name": "ipython",
    "version": 3
   },
   "file_extension": ".py",
   "mimetype": "text/x-python",
   "name": "python",
   "nbconvert_exporter": "python",
   "pygments_lexer": "ipython3",
   "version": "3.8.13"
  }
 },
 "nbformat": 4,
 "nbformat_minor": 5
}
